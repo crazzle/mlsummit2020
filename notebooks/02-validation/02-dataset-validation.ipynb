{
 "cells": [
  {
   "cell_type": "code",
   "execution_count": null,
   "metadata": {},
   "outputs": [],
   "source": [
    "import os\n",
    "import tensorflow as tf\n",
    "import tensorflow_data_validation as tfdv\n",
    "import pandas\n",
    "from sklearn.preprocessing import StandardScaler"
   ]
  },
  {
   "cell_type": "markdown",
   "metadata": {},
   "source": [
    "# Dataset Validation"
   ]
  },
  {
   "cell_type": "markdown",
   "metadata": {},
   "source": [
    "TensorFlow Data Validation is a tool to investigate different datasets meant for training, evaluation and serving.\n",
    "\n",
    "It provides:\n",
    "\n",
    "- descriptive statistics \n",
    "- inferring a schema\n",
    "- checking for and fixing anomalies\n",
    "- checking for drift and skew\n"
   ]
  },
  {
   "cell_type": "markdown",
   "metadata": {},
   "source": [
    "## Download and Load Dataset"
   ]
  },
  {
   "cell_type": "code",
   "execution_count": null,
   "metadata": {},
   "outputs": [],
   "source": [
    "train_dataset_fp = \"../00-datasets/iris.data.csv\"\n",
    "print(\"Local copy of the dataset file: {}\".format(train_dataset_fp))"
   ]
  },
  {
   "cell_type": "code",
   "execution_count": null,
   "metadata": {},
   "outputs": [],
   "source": [
    "COLUMN_NAMES = ['sepal_len', 'sepal_width', 'petal_len', 'petal_width', 'label']\n",
    "iris_raw = pandas.read_csv(train_dataset_fp, header=None, names=COLUMN_NAMES, sep=',')"
   ]
  },
  {
   "cell_type": "markdown",
   "metadata": {},
   "source": [
    "## Generate Statistics for training data"
   ]
  },
  {
   "cell_type": "code",
   "execution_count": null,
   "metadata": {},
   "outputs": [],
   "source": [
    "stats_raw = tfdv.generate_statistics_from_dataframe(iris_raw)\n",
    "tfdv.visualize_statistics(stats_raw)"
   ]
  },
  {
   "cell_type": "markdown",
   "metadata": {},
   "source": [
    "## We apply our pre-processing"
   ]
  },
  {
   "cell_type": "code",
   "execution_count": null,
   "metadata": {},
   "outputs": [],
   "source": [
    "scaler = StandardScaler(with_mean=True, with_std=True)\n",
    "iris_scaled = scaler.fit_transform(iris_raw[['sepal_len', 'sepal_width', 'petal_len', 'petal_width']])\n",
    "iris = pandas.DataFrame(iris_scaled, columns=COLUMN_NAMES[:4])\n",
    "iris[\"label\"] = iris_raw[\"label\"]\n",
    "stats_iris = tfdv.generate_statistics_from_dataframe(iris)\n",
    "tfdv.visualize_statistics(stats_iris)"
   ]
  },
  {
   "cell_type": "markdown",
   "metadata": {},
   "source": [
    "## Infer a schema from statistics"
   ]
  },
  {
   "cell_type": "code",
   "execution_count": null,
   "metadata": {},
   "outputs": [],
   "source": [
    "schema = tfdv.infer_schema(stats_iris)\n",
    "tfdv.display_schema(schema)"
   ]
  },
  {
   "cell_type": "markdown",
   "metadata": {},
   "source": [
    "## Download and Load a different dataset with missing data"
   ]
  },
  {
   "cell_type": "code",
   "execution_count": null,
   "metadata": {},
   "outputs": [],
   "source": [
    "error_dataset_fp = \"../00-datasets/iris.data.errors.csv\"\n",
    "print(\"Local copy of the dataset file: {}\".format(error_dataset_fp))"
   ]
  },
  {
   "cell_type": "code",
   "execution_count": null,
   "metadata": {},
   "outputs": [],
   "source": [
    "error_stats = tfdv.generate_statistics_from_csv(error_dataset_fp, column_names=COLUMN_NAMES)\n",
    "tfdv.visualize_statistics(error_stats)"
   ]
  },
  {
   "cell_type": "code",
   "execution_count": null,
   "metadata": {},
   "outputs": [],
   "source": [
    "anomalies = tfdv.validate_statistics(statistics=error_stats, schema=schema)\n",
    "tfdv.display_anomalies(anomalies)"
   ]
  },
  {
   "cell_type": "markdown",
   "metadata": {},
   "source": [
    "## Download and Load the dataset that got served in production"
   ]
  },
  {
   "cell_type": "code",
   "execution_count": null,
   "metadata": {},
   "outputs": [],
   "source": [
    "serving_dataset_fp = \"../00-datasets/iris.data.serving.csv\"\n",
    "print(\"Local copy of the dataset file: {}\".format(serving_dataset_fp))"
   ]
  },
  {
   "cell_type": "code",
   "execution_count": null,
   "metadata": {},
   "outputs": [],
   "source": [
    "serving_stats = tfdv.generate_statistics_from_csv(serving_dataset_fp, column_names=COLUMN_NAMES[:4]+[\"SYNTH\"])\n",
    "tfdv.visualize_statistics(serving_stats)"
   ]
  },
  {
   "cell_type": "markdown",
   "metadata": {},
   "source": [
    "## Make Serving Dataset and Training Dataset comparable"
   ]
  },
  {
   "cell_type": "code",
   "execution_count": null,
   "metadata": {},
   "outputs": [],
   "source": [
    "schema.default_environment.append('TRAINING')\n",
    "schema.default_environment.append('SERVING')\n",
    "tfdv.get_feature(schema, 'label').not_in_environment.append('SERVING')\n",
    "serving_anomalies_with_env = tfdv.validate_statistics(serving_stats, schema, environment='SERVING')\n",
    "tfdv.display_anomalies(serving_anomalies_with_env)"
   ]
  },
  {
   "cell_type": "markdown",
   "metadata": {},
   "source": [
    "## Really, that's all?"
   ]
  },
  {
   "cell_type": "markdown",
   "metadata": {},
   "source": [
    "## Skew Detection"
   ]
  },
  {
   "cell_type": "markdown",
   "metadata": {},
   "source": [
    "### Schema Skew\n",
    "Schema skew occurs when the training and serving data do not conform to the same schema. \n",
    "\n",
    "### Feature Skew\n",
    "Different feature values during serving than during training.\n",
    "\n",
    "- modified datasources\n",
    "- different preprocessing\n",
    "\n",
    "\n",
    "### Distribution Skew\n",
    "Distribution skew occurs when the distribution of the training dataset is significantly different from the distribution of the serving dataset. \n",
    "\n",
    "- highly imbalanced datasets and heavy up/downsampling"
   ]
  },
  {
   "cell_type": "markdown",
   "metadata": {},
   "source": [
    "## Drift"
   ]
  },
  {
   "cell_type": "markdown",
   "metadata": {},
   "source": [
    "Statistical features that are used for prediction change over time. That way the predictions become less accurate over time."
   ]
  }
 ],
 "metadata": {
  "kernelspec": {
   "display_name": "Python 3",
   "language": "python",
   "name": "python3"
  },
  "language_info": {
   "codemirror_mode": {
    "name": "ipython",
    "version": 3
   },
   "file_extension": ".py",
   "mimetype": "text/x-python",
   "name": "python",
   "nbconvert_exporter": "python",
   "pygments_lexer": "ipython3",
   "version": "3.7.6"
  }
 },
 "nbformat": 4,
 "nbformat_minor": 4
}
