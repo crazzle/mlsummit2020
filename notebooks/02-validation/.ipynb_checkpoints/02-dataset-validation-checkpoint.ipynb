{
 "cells": [
  {
   "cell_type": "code",
   "execution_count": 141,
   "metadata": {},
   "outputs": [],
   "source": [
    "import os\n",
    "import tensorflow as tf\n",
    "import tensorflow_data_validation as tfdv\n",
    "import pandas\n",
    "from sklearn.preprocessing import StandardScaler"
   ]
  },
  {
   "cell_type": "markdown",
   "metadata": {},
   "source": [
    "# Dataset Validation"
   ]
  },
  {
   "cell_type": "markdown",
   "metadata": {},
   "source": [
    "TensorFlow Data Validation is a tool to investigate different datasets meant for training, evaluation and serving.\n",
    "\n",
    "It provides:\n",
    "\n",
    "- descriptive statistics \n",
    "- inferring a schema\n",
    "- checking for and fixing anomalies\n",
    "- checking for drift and skew\n"
   ]
  },
  {
   "cell_type": "markdown",
   "metadata": {},
   "source": [
    "## Download and Load Dataset"
   ]
  },
  {
   "cell_type": "code",
   "execution_count": 142,
   "metadata": {},
   "outputs": [
    {
     "name": "stdout",
     "output_type": "stream",
     "text": [
      "Local copy of the dataset file: ../00-datasets/iris.data.csv\n"
     ]
    }
   ],
   "source": [
    "train_dataset_fp = \"../00-datasets/iris.data.csv\"\n",
    "print(\"Local copy of the dataset file: {}\".format(train_dataset_fp))"
   ]
  },
  {
   "cell_type": "code",
   "execution_count": 143,
   "metadata": {},
   "outputs": [],
   "source": [
    "COLUMN_NAMES = ['sepal_len', 'sepal_width', 'petal_len', 'petal_width', 'label']\n",
    "iris_raw = pandas.read_csv(train_dataset_fp, header=None, names=COLUMN_NAMES, sep=',')"
   ]
  },
  {
   "cell_type": "markdown",
   "metadata": {},
   "source": [
    "## Generate Statistics for training data"
   ]
  },
  {
   "cell_type": "code",
   "execution_count": 144,
   "metadata": {},
   "outputs": [
    {
     "data": {
      "text/html": [
       "<iframe id='facets-iframe' width=\"100%\" height=\"500px\"></iframe>\n",
       "        <script>\n",
       "        facets_iframe = document.getElementById('facets-iframe');\n",
       "        facets_html = '<link rel=\"import\" href=\"https://raw.githubusercontent.com/PAIR-code/facets/master/facets-dist/facets-jupyter.html\"><facets-overview proto-input=\"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\"></facets-overview>';\n",
       "        facets_iframe.srcdoc = facets_html;\n",
       "         facets_iframe.id = \"\";\n",
       "         setTimeout(() => {\n",
       "           facets_iframe.setAttribute('height', facets_iframe.contentWindow.document.body.offsetHeight + 'px')\n",
       "         }, 1500)\n",
       "         </script>"
      ],
      "text/plain": [
       "<IPython.core.display.HTML object>"
      ]
     },
     "metadata": {},
     "output_type": "display_data"
    }
   ],
   "source": [
    "stats_raw = tfdv.generate_statistics_from_dataframe(iris_raw)\n",
    "tfdv.visualize_statistics(stats_raw)"
   ]
  },
  {
   "cell_type": "markdown",
   "metadata": {},
   "source": [
    "## We apply our pre-processing"
   ]
  },
  {
   "cell_type": "code",
   "execution_count": 145,
   "metadata": {},
   "outputs": [
    {
     "data": {
      "text/html": [
       "<iframe id='facets-iframe' width=\"100%\" height=\"500px\"></iframe>\n",
       "        <script>\n",
       "        facets_iframe = document.getElementById('facets-iframe');\n",
       "        facets_html = '<link rel=\"import\" href=\"https://raw.githubusercontent.com/PAIR-code/facets/master/facets-dist/facets-jupyter.html\"><facets-overview proto-input=\"CqwiCg5saHNfc3RhdGlzdGljcxCWARr2AxACIugDCrYCCJYBGAEgAS0AAIA/MqQCGhsJAAAAAAAA8D8RAAAAAAAA8D8hAAAAAAAALkAaGwkAAAAAAADwPxEAAAAAAADwPyEAAAAAAAAuQBobCQAAAAAAAPA/EQAAAAAAAPA/IQAAAAAAAC5AGhsJAAAAAAAA8D8RAAAAAAAA8D8hAAAAAAAALkAaGwkAAAAAAADwPxEAAAAAAADwPyEAAAAAAAAuQBobCQAAAAAAAPA/EQAAAAAAAPA/IQAAAAAAAC5AGhsJAAAAAAAA8D8RAAAAAAAA8D8hAAAAAAAALkAaGwkAAAAAAADwPxEAAAAAAADwPyEAAAAAAAAuQBobCQAAAAAAAPA/EQAAAAAAAPA/IQAAAAAAAC5AGhsJAAAAAAAA8D8RAAAAAAAA8D8hAAAAAAAALkAgAUCWARADGhkSDklyaXMtdmlyZ2luaWNhGQAAAAAAAElAGhoSD0lyaXMtdmVyc2ljb2xvchkAAAAAAABJQBoWEgtJcmlzLXNldG9zYRkAAAAAAABJQCVVVVVBKlcKGSIOSXJpcy12aXJnaW5pY2EpAAAAAAAASUAKHggBEAEiD0lyaXMtdmVyc2ljb2xvcikAAAAAAABJQAoaCAIQAiILSXJpcy1zZXRvc2EpAAAAAAAASUBCBwoFbGFiZWwaxAcQARqyBwq2AgiWARgBIAEtAACAPzKkAhobCQAAAAAAAPA/EQAAAAAAAPA/IQAAAAAAAC5AGhsJAAAAAAAA8D8RAAAAAAAA8D8hAAAAAAAALkAaGwkAAAAAAADwPxEAAAAAAADwPyEAAAAAAAAuQBobCQAAAAAAAPA/EQAAAAAAAPA/IQAAAAAAAC5AGhsJAAAAAAAA8D8RAAAAAAAA8D8hAAAAAAAALkAaGwkAAAAAAADwPxEAAAAAAADwPyEAAAAAAAAuQBobCQAAAAAAAPA/EQAAAAAAAPA/IQAAAAAAAC5AGhsJAAAAAAAA8D8RAAAAAAAA8D8hAAAAAAAALkAaGwkAAAAAAADwPxEAAAAAAADwPyEAAAAAAAAuQBobCQAAAAAAAPA/EQAAAAAAAPA/IQAAAAAAAC5AIAFAlgER5RdLfrHktzwZ/v//////7z8pqf5QGooZ+b8xAAAAQDlX1z85s5ReodqU/D9CogIaGwkAAAAgihn5vxGamZnZTLvzvyHikTngeoRCQBobCZqZmdlMu/O/EWZmZiYfuuy/IRuDq3YH6ClAGhsJZmZmJh+67L8RmJmZmaT94b8hCdxaUauYtD8aGwmYmZmZpP3hvxEwMzMzqATNvyECWqNTMWkHQBobCTAzMzOoBM2/EQAAAACE2rs/IdNDMR6F6x9AGhsJAAAAAITauz8RoJmZGZZv3D8hocqpKFzvOUAaGwmgmZkZlm/cPxGcmZmZRfToPyHQk5GOwhU9QBobCZyZmZlF9Og/ETQzMxNg2PE/IXWdSfYo/DFAGhsJNDMzE2DY8T8RmpmZWZ029z8hqREyV7jeJUAaGwmamZlZnTb3PxEAAACg2pT8PyGJ+xs3ClcUQEKkAhobCQAAACCKGfm/EQAAAADadfW/IQAAAAAAAC5AGhsJAAAAANp19b8RAAAAAO6M9L8hAAAAAAAALkAaGwkAAAAA7oz0vxEAAAAAFrvyvyEAAAAAAAAuQBobCQAAAAAWu/K/EQAAACAkk7Q/IQAAAAAAAC5AGhsJAAAAICSTtD8R4vz/PzlX1z8hAAAAAAAALkAaGwni/P8/OVfXPxEi/v+/JCHhPyEAAAAAAAAuQBobCSL+/78kIeE/EQAAAMCsluY/IQAAAAAAAC5AGhsJAAAAwKyW5j8RhP3/3wze7T8hAAAAAAAALkAaGwmE/f/fDN7tPxEAAACAtpLyPyEAAAAAAAAuQBobCQAAAIC2kvI/EQAAAKDalPw/IQAAAAAAAC5AIAFCCwoJcGV0YWxfbGVuGsYHEAEasgcKtgIIlgEYASABLQAAgD8ypAIaGwkAAAAAAADwPxEAAAAAAADwPyEAAAAAAAAuQBobCQAAAAAAAPA/EQAAAAAAAPA/IQAAAAAAAC5AGhsJAAAAAAAA8D8RAAAAAAAA8D8hAAAAAAAALkAaGwkAAAAAAADwPxEAAAAAAADwPyEAAAAAAAAuQBobCQAAAAAAAPA/EQAAAAAAAPA/IQAAAAAAAC5AGhsJAAAAAAAA8D8RAAAAAAAA8D8hAAAAAAAALkAaGwkAAAAAAADwPxEAAAAAAADwPyEAAAAAAAAuQBobCQAAAAAAAPA/EQAAAAAAAPA/IQAAAAAAAC5AGhsJAAAAAAAA8D8RAAAAAAAA8D8hAAAAAAAALkAaGwkAAAAAAADwPxEAAAAAAADwPyEAAAAAAAAuQCABQJYBEXsUrkfherS8GQAAAAAAAPA/KauFKEl3HPe/MQAAAECMDcE/OU5Mp1baX/s/QqICGhsJAAAAQHcc978RMzMzswgQ8r8hY0+JrkeBREAaGwkzMzOzCBDyvxHNzMxMNAfqvyH7xAm2HgUgQBobCc3MzEw0B+q/EWhmZmau3N+/IWqYKjYzM/A/GhsJaGZmZq7c378RaGZmZuhVx78hEXbLrUehG0AaGwloZmZm6FXHvxEAAAAAjA3BPyEVozGE61EgQBobCQAAAACMDcE/ETAzMzOAuNw/IeIeDuF6dEBAGhsJMDMzM4C43D8RNDMzMx116D8h0Ix4onA9GEAaGwk0MzMzHXXoPxFmZmYm/UbxPyHQuk31KNw2QBobCWZmZib9RvE/ETIzM7NrU/Y/ISrXvlO4HiJAGhsJMjMzs2tT9j8RAAAAYNpf+z8hkD0luh4FLEBCpAIaGwkAAABAdxz3vxEAAADg8wH1vyEAAAAAAAAuQBobCQAAAODzAfW/EQAAAODzAfW/IQAAAAAAAC5AGhsJAAAA4PMB9b8RAAAAIO3M8L8hAAAAAAAALkAaGwkAAAAg7czwvxGAN/r/f7hcPyEAAAAAAAAuQBobCYA3+v9/uFw/EQAAAECMDcE/IQAAAAAAAC5AGhsJAAAAQIwNwT8RAAAAYOFa2T8hAAAAAAAALkAaGwkAAABg4VrZPxEAAAAghUzpPyEAAAAAAAAuQBobCQAAACCFTOk/EQAAAOCLge0/IQAAAAAAAC5AGhsJAAAA4IuB7T8RAAAAIFAQ9T8hAAAAAAAALkAaGwkAAAAgUBD1PxEAAABg2l/7PyEAAAAAAAAuQCABQg0KC3BldGFsX3dpZHRoGsQHEAEasgcKtgIIlgEYASABLQAAgD8ypAIaGwkAAAAAAADwPxEAAAAAAADwPyEAAAAAAAAuQBobCQAAAAAAAPA/EQAAAAAAAPA/IQAAAAAAAC5AGhsJAAAAAAAA8D8RAAAAAAAA8D8hAAAAAAAALkAaGwkAAAAAAADwPxEAAAAAAADwPyEAAAAAAAAuQBobCQAAAAAAAPA/EQAAAAAAAPA/IQAAAAAAAC5AGhsJAAAAAAAA8D8RAAAAAAAA8D8hAAAAAAAALkAaGwkAAAAAAADwPxEAAAAAAADwPyEAAAAAAAAuQBobCQAAAAAAAPA/EQAAAAAAAPA/IQAAAAAAAC5AGhsJAAAAAAAA8D8RAAAAAAAA8D8hAAAAAAAALkAaGwkAAAAAAADwPxEAAAAAAADwPyEAAAAAAAAuQCABQJYBEREREREREcG8GQAAAAAAAPA/KaWoGW2e6/2/MQAAAKAT4qq/OQgHccOn7wNAQqICGhsJAAAAYJ7r/b8RmpmZ+ezw9r8hMwMSr0fhIUAaGwmamZn57PD2vxFmZmYmd+zvvyFR/WFxPQo3QBobCWZmZiZ37O+/EZiZmVkU9+G/IRSuR+F6FCxAGhsJmJmZWRT34b8RMDMzM8YGwL8h8BUa16PwOkAaGwkwMzMzxgbAvxEAAACAYufTPyG3McejcP01QBobCQAAAIBi59M/EdDMzAwU6ec/IS6bInE9CjRAGhsJ0MzMDBTp5z8RzszMbDvv8j8hMxdM1qPwMUAaGwnOzMxsO+/yPxE0MzPT7On5PyH/n733KFwYQBobCTQzM9Ps6fk/Ec3MzBxPcgBAIfVWU6VwvRNAGhsJzczMHE9yAEARAAAAwKfvA0AhC8lzcxQuGEBCpAIaGwkAAABgnuv9vxEAAADgGTr0vyEAAAAAAAAuQBobCQAAAOAZOvS/EQAAAGB+WfC/IQAAAAAAAC5AGhsJAAAAYH5Z8L8RAgIAYCoR5b8hAAAAAAAALkAaGwkCAgBgKhHlvxEAAABAsN7SvyEAAAAAAAAuQBobCQAAAECw3tK/EQAAAKAT4qq/IQAAAAAAAC5AGhsJAAAAoBPiqr8RAAAAQGLn0z8hAAAAAAAALkAaGwkAAABAYufTPxEAAAAA6LThPyEAAAAAAAAuQBobCQAAAADotOE/Ebb6/z+6Vu0/IQAAAAAAAC5AGhsJtvr/P7pW7T8RAAAAYEZ89D8hAAAAAAAALkAaGwkAAABgRnz0PxEAAADAp+8DQCEAAAAAAAAuQCABQgsKCXNlcGFsX2xlbhrGBxABGrIHCrYCCJYBGAEgAS0AAIA/MqQCGhsJAAAAAAAA8D8RAAAAAAAA8D8hAAAAAAAALkAaGwkAAAAAAADwPxEAAAAAAADwPyEAAAAAAAAuQBobCQAAAAAAAPA/EQAAAAAAAPA/IQAAAAAAAC5AGhsJAAAAAAAA8D8RAAAAAAAA8D8hAAAAAAAALkAaGwkAAAAAAADwPxEAAAAAAADwPyEAAAAAAAAuQBobCQAAAAAAAPA/EQAAAAAAAPA/IQAAAAAAAC5AGhsJAAAAAAAA8D8RAAAAAAAA8D8hAAAAAAAALkAaGwkAAAAAAADwPxEAAAAAAADwPyEAAAAAAAAuQBobCQAAAAAAAPA/EQAAAAAAAPA/IQAAAAAAAC5AGhsJAAAAAAAA8D8RAAAAAAAA8D8hAAAAAAAALkAgAUCWARHlF0t+seTHvBkAAAAAAADwPym+gaa/C4MDwDEAAACgOP2/vzlR5e1l3+oIQEKiAhobCQAAAMALgwPAEWZmZuZOI/6/IXQ8u3YUrg9AGhsJZmZm5k4j/r8RzczMTIZA9b8hvLoA1qNwHEAaGwnNzMxMhkD1vxFoZmZme7vovyHaYbMoXM81QBobCWhmZmZ7u+i/EdDMzMyo18u/IbPJoihcDzhAGhsJ0MzMzKjXy78RAAAAAE6f1T8h19ww4XoUQ0AaGwkAAAAATp/VPxEwMzMzOJXsPyHbzBIpXM8+QBobCTAzMzM4lew/ETIzM7NkLfc/IbShn1C4HiJAGhsJMjMzs2Qt9z8RZmZmphYIAEAh+uU+th4FJkAaGwlmZmamFggAQBEyMzPzenkEQCGxw5PpehQAQBobCTIzM/N6eQRAEQAAAGDf6ghAIf3a3/F6FABAQqQCGhsJAAAAwAuDA8ARAAAAgPWC9L8hAAAAAAAALkAaGwkAAACA9YL0vxEAAACgnDbqvyEAAAAAAAAuQBobCQAAAKCcNuq/EQAAAID1zuK/IQAAAAAAAC5AGhsJAAAAgPXO4r8RAAAAoDj9v78hAAAAAAAALkAaGwkAAACgOP2/vxEAAACgOP2/vyEAAAAAAAAuQBobCQAAAKA4/b+/EQAAAOAAQLs/IQAAAAAAAC5AGhsJAAAA4ABAuz8RAAAAoE6f1T8hAAAAAAAALkAaGwkAAACgTp/VPxEAAACg9Z7pPyEAAAAAAAAuQBobCQAAAKD1nuk/EVL6/5/16vc/IQAAAAAAAC5AGhsJUvr/n/Xq9z8RAAAAYN/qCEAhAAAAAAAALkAgAUINCgtzZXBhbF93aWR0aA==\"></facets-overview>';\n",
       "        facets_iframe.srcdoc = facets_html;\n",
       "         facets_iframe.id = \"\";\n",
       "         setTimeout(() => {\n",
       "           facets_iframe.setAttribute('height', facets_iframe.contentWindow.document.body.offsetHeight + 'px')\n",
       "         }, 1500)\n",
       "         </script>"
      ],
      "text/plain": [
       "<IPython.core.display.HTML object>"
      ]
     },
     "metadata": {},
     "output_type": "display_data"
    }
   ],
   "source": [
    "scaler = StandardScaler(with_mean=True, with_std=True)\n",
    "iris_scaled = scaler.fit_transform(iris_raw[['sepal_len', 'sepal_width', 'petal_len', 'petal_width']])\n",
    "iris = pandas.DataFrame(iris_scaled, columns=COLUMN_NAMES[:4])\n",
    "iris[\"label\"] = iris_raw[\"label\"]\n",
    "stats_iris = tfdv.generate_statistics_from_dataframe(iris)\n",
    "tfdv.visualize_statistics(stats_iris)"
   ]
  },
  {
   "cell_type": "markdown",
   "metadata": {},
   "source": [
    "## Infer a schema from statistics"
   ]
  },
  {
   "cell_type": "code",
   "execution_count": 146,
   "metadata": {},
   "outputs": [
    {
     "data": {
      "text/html": [
       "<div>\n",
       "<style scoped>\n",
       "    .dataframe tbody tr th:only-of-type {\n",
       "        vertical-align: middle;\n",
       "    }\n",
       "\n",
       "    .dataframe tbody tr th {\n",
       "        vertical-align: top;\n",
       "    }\n",
       "\n",
       "    .dataframe thead th {\n",
       "        text-align: right;\n",
       "    }\n",
       "</style>\n",
       "<table border=\"1\" class=\"dataframe\">\n",
       "  <thead>\n",
       "    <tr style=\"text-align: right;\">\n",
       "      <th></th>\n",
       "      <th>Type</th>\n",
       "      <th>Presence</th>\n",
       "      <th>Valency</th>\n",
       "      <th>Domain</th>\n",
       "    </tr>\n",
       "    <tr>\n",
       "      <th>Feature name</th>\n",
       "      <th></th>\n",
       "      <th></th>\n",
       "      <th></th>\n",
       "      <th></th>\n",
       "    </tr>\n",
       "  </thead>\n",
       "  <tbody>\n",
       "    <tr>\n",
       "      <th>'label'</th>\n",
       "      <td>STRING</td>\n",
       "      <td>required</td>\n",
       "      <td></td>\n",
       "      <td>'label'</td>\n",
       "    </tr>\n",
       "    <tr>\n",
       "      <th>'petal_len'</th>\n",
       "      <td>FLOAT</td>\n",
       "      <td>required</td>\n",
       "      <td></td>\n",
       "      <td>-</td>\n",
       "    </tr>\n",
       "    <tr>\n",
       "      <th>'petal_width'</th>\n",
       "      <td>FLOAT</td>\n",
       "      <td>required</td>\n",
       "      <td></td>\n",
       "      <td>-</td>\n",
       "    </tr>\n",
       "    <tr>\n",
       "      <th>'sepal_len'</th>\n",
       "      <td>FLOAT</td>\n",
       "      <td>required</td>\n",
       "      <td></td>\n",
       "      <td>-</td>\n",
       "    </tr>\n",
       "    <tr>\n",
       "      <th>'sepal_width'</th>\n",
       "      <td>FLOAT</td>\n",
       "      <td>required</td>\n",
       "      <td></td>\n",
       "      <td>-</td>\n",
       "    </tr>\n",
       "  </tbody>\n",
       "</table>\n",
       "</div>"
      ],
      "text/plain": [
       "                 Type  Presence Valency   Domain\n",
       "Feature name                                    \n",
       "'label'        STRING  required          'label'\n",
       "'petal_len'    FLOAT   required          -      \n",
       "'petal_width'  FLOAT   required          -      \n",
       "'sepal_len'    FLOAT   required          -      \n",
       "'sepal_width'  FLOAT   required          -      "
      ]
     },
     "metadata": {},
     "output_type": "display_data"
    },
    {
     "data": {
      "text/html": [
       "<div>\n",
       "<style scoped>\n",
       "    .dataframe tbody tr th:only-of-type {\n",
       "        vertical-align: middle;\n",
       "    }\n",
       "\n",
       "    .dataframe tbody tr th {\n",
       "        vertical-align: top;\n",
       "    }\n",
       "\n",
       "    .dataframe thead th {\n",
       "        text-align: right;\n",
       "    }\n",
       "</style>\n",
       "<table border=\"1\" class=\"dataframe\">\n",
       "  <thead>\n",
       "    <tr style=\"text-align: right;\">\n",
       "      <th></th>\n",
       "      <th>Values</th>\n",
       "    </tr>\n",
       "    <tr>\n",
       "      <th>Domain</th>\n",
       "      <th></th>\n",
       "    </tr>\n",
       "  </thead>\n",
       "  <tbody>\n",
       "    <tr>\n",
       "      <th>'label'</th>\n",
       "      <td>'Iris-setosa', 'Iris-versicolor', 'Iris-virginica'</td>\n",
       "    </tr>\n",
       "  </tbody>\n",
       "</table>\n",
       "</div>"
      ],
      "text/plain": [
       "                                                     Values\n",
       "Domain                                                     \n",
       "'label'  'Iris-setosa', 'Iris-versicolor', 'Iris-virginica'"
      ]
     },
     "metadata": {},
     "output_type": "display_data"
    }
   ],
   "source": [
    "schema = tfdv.infer_schema(stats_iris)\n",
    "tfdv.display_schema(schema)"
   ]
  },
  {
   "cell_type": "markdown",
   "metadata": {},
   "source": [
    "## Download and Load a different dataset with missing data"
   ]
  },
  {
   "cell_type": "code",
   "execution_count": 147,
   "metadata": {},
   "outputs": [
    {
     "name": "stdout",
     "output_type": "stream",
     "text": [
      "Local copy of the dataset file: ../00-datasets/iris.data.errors.csv\n"
     ]
    }
   ],
   "source": [
    "error_dataset_fp = \"../00-datasets/iris.data.errors.csv\"\n",
    "print(\"Local copy of the dataset file: {}\".format(error_dataset_fp))"
   ]
  },
  {
   "cell_type": "code",
   "execution_count": 148,
   "metadata": {},
   "outputs": [
    {
     "data": {
      "text/html": [
       "<iframe id='facets-iframe' width=\"100%\" height=\"500px\"></iframe>\n",
       "        <script>\n",
       "        facets_iframe = document.getElementById('facets-iframe');\n",
       "        facets_html = '<link rel=\"import\" href=\"https://raw.githubusercontent.com/PAIR-code/facets/master/facets-dist/facets-jupyter.html\"><facets-overview proto-input=\"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\"></facets-overview>';\n",
       "        facets_iframe.srcdoc = facets_html;\n",
       "         facets_iframe.id = \"\";\n",
       "         setTimeout(() => {\n",
       "           facets_iframe.setAttribute('height', facets_iframe.contentWindow.document.body.offsetHeight + 'px')\n",
       "         }, 1500)\n",
       "         </script>"
      ],
      "text/plain": [
       "<IPython.core.display.HTML object>"
      ]
     },
     "metadata": {},
     "output_type": "display_data"
    }
   ],
   "source": [
    "error_stats = tfdv.generate_statistics_from_csv(error_dataset_fp, column_names=COLUMN_NAMES)\n",
    "tfdv.visualize_statistics(error_stats)"
   ]
  },
  {
   "cell_type": "code",
   "execution_count": 149,
   "metadata": {},
   "outputs": [
    {
     "data": {
      "text/html": [
       "<div>\n",
       "<style scoped>\n",
       "    .dataframe tbody tr th:only-of-type {\n",
       "        vertical-align: middle;\n",
       "    }\n",
       "\n",
       "    .dataframe tbody tr th {\n",
       "        vertical-align: top;\n",
       "    }\n",
       "\n",
       "    .dataframe thead th {\n",
       "        text-align: right;\n",
       "    }\n",
       "</style>\n",
       "<table border=\"1\" class=\"dataframe\">\n",
       "  <thead>\n",
       "    <tr style=\"text-align: right;\">\n",
       "      <th></th>\n",
       "      <th>Anomaly short description</th>\n",
       "      <th>Anomaly long description</th>\n",
       "    </tr>\n",
       "    <tr>\n",
       "      <th>Feature name</th>\n",
       "      <th></th>\n",
       "      <th></th>\n",
       "    </tr>\n",
       "  </thead>\n",
       "  <tbody>\n",
       "    <tr>\n",
       "      <th>'petal_len'</th>\n",
       "      <td>Column dropped</td>\n",
       "      <td>The feature was present in fewer examples than expected.</td>\n",
       "    </tr>\n",
       "    <tr>\n",
       "      <th>'petal_width'</th>\n",
       "      <td>Column dropped</td>\n",
       "      <td>The feature was present in fewer examples than expected.</td>\n",
       "    </tr>\n",
       "    <tr>\n",
       "      <th>'label'</th>\n",
       "      <td>Unexpected string values</td>\n",
       "      <td>Examples contain values missing from the schema: Iris-Errorpronica (~25%).</td>\n",
       "    </tr>\n",
       "    <tr>\n",
       "      <th>'sepal_len'</th>\n",
       "      <td>Column dropped</td>\n",
       "      <td>The feature was present in fewer examples than expected.</td>\n",
       "    </tr>\n",
       "  </tbody>\n",
       "</table>\n",
       "</div>"
      ],
      "text/plain": [
       "              Anomaly short description  \\\n",
       "Feature name                              \n",
       "'petal_len'    Column dropped             \n",
       "'petal_width'  Column dropped             \n",
       "'label'        Unexpected string values   \n",
       "'sepal_len'    Column dropped             \n",
       "\n",
       "                                                                  Anomaly long description  \n",
       "Feature name                                                                                \n",
       "'petal_len'    The feature was present in fewer examples than expected.                     \n",
       "'petal_width'  The feature was present in fewer examples than expected.                     \n",
       "'label'        Examples contain values missing from the schema: Iris-Errorpronica (~25%).   \n",
       "'sepal_len'    The feature was present in fewer examples than expected.                     "
      ]
     },
     "metadata": {},
     "output_type": "display_data"
    }
   ],
   "source": [
    "anomalies = tfdv.validate_statistics(statistics=error_stats, schema=schema)\n",
    "tfdv.display_anomalies(anomalies)"
   ]
  },
  {
   "cell_type": "markdown",
   "metadata": {},
   "source": [
    "## Download and Load the dataset that got served in production"
   ]
  },
  {
   "cell_type": "code",
   "execution_count": 150,
   "metadata": {},
   "outputs": [
    {
     "name": "stdout",
     "output_type": "stream",
     "text": [
      "Local copy of the dataset file: ../00-datasets/iris.data.serving.csv\n"
     ]
    }
   ],
   "source": [
    "serving_dataset_fp = \"../00-datasets/iris.data.serving.csv\"\n",
    "print(\"Local copy of the dataset file: {}\".format(serving_dataset_fp))"
   ]
  },
  {
   "cell_type": "code",
   "execution_count": 156,
   "metadata": {},
   "outputs": [
    {
     "data": {
      "text/html": [
       "<iframe id='facets-iframe' width=\"100%\" height=\"500px\"></iframe>\n",
       "        <script>\n",
       "        facets_iframe = document.getElementById('facets-iframe');\n",
       "        facets_html = '<link rel=\"import\" href=\"https://raw.githubusercontent.com/PAIR-code/facets/master/facets-dist/facets-jupyter.html\"><facets-overview proto-input=\"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\"></facets-overview>';\n",
       "        facets_iframe.srcdoc = facets_html;\n",
       "         facets_iframe.id = \"\";\n",
       "         setTimeout(() => {\n",
       "           facets_iframe.setAttribute('height', facets_iframe.contentWindow.document.body.offsetHeight + 'px')\n",
       "         }, 1500)\n",
       "         </script>"
      ],
      "text/plain": [
       "<IPython.core.display.HTML object>"
      ]
     },
     "metadata": {},
     "output_type": "display_data"
    }
   ],
   "source": [
    "serving_stats = tfdv.generate_statistics_from_csv(serving_dataset_fp, column_names=COLUMN_NAMES[:4]+[\"SYNTH\"])\n",
    "tfdv.visualize_statistics(serving_stats)"
   ]
  },
  {
   "cell_type": "markdown",
   "metadata": {},
   "source": [
    "## Make Serving Dataset and Training Dataset comparable"
   ]
  },
  {
   "cell_type": "code",
   "execution_count": 157,
   "metadata": {},
   "outputs": [
    {
     "data": {
      "text/html": [
       "<div>\n",
       "<style scoped>\n",
       "    .dataframe tbody tr th:only-of-type {\n",
       "        vertical-align: middle;\n",
       "    }\n",
       "\n",
       "    .dataframe tbody tr th {\n",
       "        vertical-align: top;\n",
       "    }\n",
       "\n",
       "    .dataframe thead th {\n",
       "        text-align: right;\n",
       "    }\n",
       "</style>\n",
       "<table border=\"1\" class=\"dataframe\">\n",
       "  <thead>\n",
       "    <tr style=\"text-align: right;\">\n",
       "      <th></th>\n",
       "      <th>Anomaly short description</th>\n",
       "      <th>Anomaly long description</th>\n",
       "    </tr>\n",
       "    <tr>\n",
       "      <th>Feature name</th>\n",
       "      <th></th>\n",
       "      <th></th>\n",
       "    </tr>\n",
       "  </thead>\n",
       "  <tbody>\n",
       "    <tr>\n",
       "      <th>'SYNTH'</th>\n",
       "      <td>New column</td>\n",
       "      <td>New column (column in data but not in schema)</td>\n",
       "    </tr>\n",
       "  </tbody>\n",
       "</table>\n",
       "</div>"
      ],
      "text/plain": [
       "             Anomaly short description  \\\n",
       "Feature name                             \n",
       "'SYNTH'       New column                 \n",
       "\n",
       "                                   Anomaly long description  \n",
       "Feature name                                                 \n",
       "'SYNTH'       New column (column in data but not in schema)  "
      ]
     },
     "metadata": {},
     "output_type": "display_data"
    }
   ],
   "source": [
    "schema.default_environment.append('TRAINING')\n",
    "schema.default_environment.append('SERVING')\n",
    "tfdv.get_feature(schema, 'label').not_in_environment.append('SERVING')\n",
    "serving_anomalies_with_env = tfdv.validate_statistics(serving_stats, schema, environment='SERVING')\n",
    "tfdv.display_anomalies(serving_anomalies_with_env)"
   ]
  },
  {
   "cell_type": "markdown",
   "metadata": {},
   "source": [
    "## Really, that's all?"
   ]
  },
  {
   "cell_type": "markdown",
   "metadata": {},
   "source": [
    "## Skew Detection"
   ]
  },
  {
   "cell_type": "markdown",
   "metadata": {},
   "source": [
    "### Schema Skew\n",
    "Schema skew occurs when the training and serving data do not conform to the same schema. \n",
    "\n",
    "### Feature Skew\n",
    "Different feature values during serving than during training.\n",
    "\n",
    "- modified datasources\n",
    "- different preprocessing\n",
    "\n",
    "\n",
    "### Distribution Skew\n",
    "Distribution skew occurs when the distribution of the training dataset is significantly different from the distribution of the serving dataset. \n",
    "\n",
    "- highly imbalanced datasets and heavy up/downsampling"
   ]
  },
  {
   "cell_type": "markdown",
   "metadata": {},
   "source": [
    "## Drift"
   ]
  },
  {
   "cell_type": "markdown",
   "metadata": {},
   "source": [
    "Statistical features that are used for prediction change over time. That way the predictions become less accurate over time."
   ]
  }
 ],
 "metadata": {
  "kernelspec": {
   "display_name": "Python 3",
   "language": "python",
   "name": "python3"
  },
  "language_info": {
   "codemirror_mode": {
    "name": "ipython",
    "version": 3
   },
   "file_extension": ".py",
   "mimetype": "text/x-python",
   "name": "python",
   "nbconvert_exporter": "python",
   "pygments_lexer": "ipython3",
   "version": "3.7.4"
  }
 },
 "nbformat": 4,
 "nbformat_minor": 4
}
