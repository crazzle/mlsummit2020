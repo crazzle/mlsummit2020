{
 "cells": [
  {
   "cell_type": "markdown",
   "metadata": {},
   "source": [
    "# Task: Build a simple pipeline with DVC"
   ]
  },
  {
   "cell_type": "markdown",
   "metadata": {},
   "source": [
    "In this task we want to build a simple DVC pipeline. The elements of the pipeline will contain a configuration for preprocessing, building the model, training and saving and compressing the model. \n",
    "\n",
    "The pipelines consists of multiple python files:\n",
    "\n",
    "- configuration.py which takes care of generating and pickling the config (StandardScaler by Scikit-Learn)\n",
    "- model.py which generates the model and saves it as a pb file\n",
    "- training.py which trains the model with our dataset\n",
    "- export.py which exports the trained model as a pb file and compresses / tars it\n",
    "\n",
    "You can call the functions from the shell via `python <file> <function name> <input params>`.\n",
    "\n",
    "Remember that you can run shell commands in a Jupyter notebook by starting a line in a cell with `!` or putting `%%sh` at the beginning of a cell."
   ]
  },
  {
   "cell_type": "markdown",
   "metadata": {},
   "source": [
    "#### Initialise DVC\n",
    "\n",
    "Please use `--no-scm` to avoid problems with this git repository."
   ]
  },
  {
   "cell_type": "code",
   "execution_count": null,
   "metadata": {},
   "outputs": [],
   "source": []
  },
  {
   "cell_type": "markdown",
   "metadata": {},
   "source": [
    "#### Define first pipeline stage"
   ]
  },
  {
   "cell_type": "code",
   "execution_count": null,
   "metadata": {},
   "outputs": [],
   "source": []
  },
  {
   "cell_type": "markdown",
   "metadata": {},
   "source": [
    "#### Define second pipeline stage"
   ]
  },
  {
   "cell_type": "code",
   "execution_count": null,
   "metadata": {},
   "outputs": [],
   "source": []
  },
  {
   "cell_type": "markdown",
   "metadata": {},
   "source": [
    "#### Define third pipeline stage\n",
    "Tip: Don't specify the name of the .dvc file in the last stage. DVC will then use the default name DVCfile, which is handy for later reproduction."
   ]
  },
  {
   "cell_type": "code",
   "execution_count": null,
   "metadata": {},
   "outputs": [],
   "source": []
  },
  {
   "cell_type": "markdown",
   "metadata": {},
   "source": [
    "#### Check your pipeline here:"
   ]
  },
  {
   "cell_type": "code",
   "execution_count": null,
   "metadata": {},
   "outputs": [],
   "source": []
  }
 ],
 "metadata": {
  "kernelspec": {
   "display_name": "Python 3",
   "language": "python",
   "name": "python3"
  },
  "language_info": {
   "codemirror_mode": {
    "name": "ipython",
    "version": 3
   },
   "file_extension": ".py",
   "mimetype": "text/x-python",
   "name": "python",
   "nbconvert_exporter": "python",
   "pygments_lexer": "ipython3",
   "version": "3.7.6"
  }
 },
 "nbformat": 4,
 "nbformat_minor": 4
}
