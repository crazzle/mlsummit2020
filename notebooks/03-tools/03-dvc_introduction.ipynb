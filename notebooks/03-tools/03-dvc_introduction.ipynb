{
 "cells": [
  {
   "cell_type": "markdown",
   "metadata": {},
   "source": [
    "# Lightweight Development Pipelines with DVC\n",
    "\n",
    "In this notebook we will highlight important elements of DVC. You can find extensive information for dvc on their [website](https://dvc.org).\n",
    "\n",
    "As a showcase we will implement a simple classification pipeline."
   ]
  },
  {
   "cell_type": "markdown",
   "metadata": {},
   "source": [
    "### Some Preparations"
   ]
  },
  {
   "cell_type": "code",
   "execution_count": null,
   "metadata": {},
   "outputs": [],
   "source": [
    "# --no-scm because we don't want to interfere with the workshops' git\n",
    "!dvc init -f --no-scm"
   ]
  },
  {
   "cell_type": "markdown",
   "metadata": {},
   "source": [
    "Optional: We add a new remote storage (could be S3, GCS, SSH, ...)"
   ]
  },
  {
   "cell_type": "code",
   "execution_count": null,
   "metadata": {},
   "outputs": [],
   "source": [
    "!dvc remote add -d -f local_storage /tmp/dvc_introduction"
   ]
  },
  {
   "cell_type": "markdown",
   "metadata": {},
   "source": [
    "Let's check our current status. Attention: DVC does not have a sophisticated git-like `stage area`, but a cache-directory, that is being synced with the remote."
   ]
  },
  {
   "cell_type": "code",
   "execution_count": null,
   "metadata": {},
   "outputs": [],
   "source": [
    "!dvc status -c"
   ]
  },
  {
   "cell_type": "markdown",
   "metadata": {},
   "source": [
    "That wasn't too surprising..."
   ]
  },
  {
   "cell_type": "markdown",
   "metadata": {},
   "source": [
    "We can either add files to our DVC versioning by manually adding them or implicitly in a pipeline."
   ]
  },
  {
   "cell_type": "raw",
   "metadata": {},
   "source": [
    "!dvc add mybigfile.pkl"
   ]
  },
  {
   "cell_type": "markdown",
   "metadata": {},
   "source": [
    "### Building a Pipeline"
   ]
  },
  {
   "cell_type": "code",
   "execution_count": null,
   "metadata": {},
   "outputs": [],
   "source": [
    "%%sh \n",
    "dvc run -f configure.dvc \\\n",
    "        -d dvc_introduction.py \\\n",
    "        -o output-introduction/config.pickle \\\n",
    "        python dvc_introduction.py configure output-introduction/config.pickle"
   ]
  },
  {
   "cell_type": "code",
   "execution_count": null,
   "metadata": {},
   "outputs": [],
   "source": [
    "%%sh \n",
    "dvc run -f train.dvc \\\n",
    "        -d dvc_introduction.py \\\n",
    "        -d output-introduction/config.pickle \\\n",
    "        -d ../00-datasets/iris.data.csv \\\n",
    "        -o output-introduction/model \\\n",
    "        python dvc_introduction.py train_model ../00-datasets/iris.data.csv \\\n",
    "                                               output-introduction/config.pickle \\\n",
    "                                               output-introduction/model"
   ]
  },
  {
   "cell_type": "code",
   "execution_count": null,
   "metadata": {},
   "outputs": [],
   "source": [
    "%%sh \n",
    "dvc run -f Dvcfile \\\n",
    "        -d dvc_introduction.py \\\n",
    "        -d output-introduction/model \\\n",
    "        -O ../04-models/iris/2 \\\n",
    "        python dvc_introduction.py export output-introduction/model ../04-models/iris/2"
   ]
  },
  {
   "cell_type": "markdown",
   "metadata": {},
   "source": [
    "### Inspecting and Modifying a Pipeline "
   ]
  },
  {
   "cell_type": "code",
   "execution_count": null,
   "metadata": {},
   "outputs": [],
   "source": [
    "%%sh \n",
    "dvc pipeline show --ascii"
   ]
  },
  {
   "cell_type": "code",
   "execution_count": null,
   "metadata": {},
   "outputs": [],
   "source": [
    "!dvc status -c"
   ]
  },
  {
   "cell_type": "code",
   "execution_count": null,
   "metadata": {},
   "outputs": [],
   "source": [
    "!dvc push"
   ]
  },
  {
   "cell_type": "code",
   "execution_count": null,
   "metadata": {},
   "outputs": [],
   "source": [
    "!dvc repro"
   ]
  },
  {
   "cell_type": "markdown",
   "metadata": {},
   "source": [
    "Let's modify a file and reproduce our pipeline!"
   ]
  },
  {
   "cell_type": "markdown",
   "metadata": {},
   "source": [
    "#### New Features"
   ]
  },
  {
   "cell_type": "markdown",
   "metadata": {},
   "source": [
    "Get a file from another (external) git+DVC repository."
   ]
  },
  {
   "cell_type": "code",
   "execution_count": null,
   "metadata": {},
   "outputs": [],
   "source": [
    "!dvc import https://github.com/iterative/example-get-started model.pkl"
   ]
  },
  {
   "cell_type": "code",
   "execution_count": null,
   "metadata": {},
   "outputs": [],
   "source": [
    "!dvc get https://github.com/iterative/example-get-started model.pkl"
   ]
  },
  {
   "cell_type": "code",
   "execution_count": null,
   "metadata": {},
   "outputs": [],
   "source": [
    "!rm model.pkl"
   ]
  },
  {
   "cell_type": "markdown",
   "metadata": {},
   "source": [
    "Get a file *including* its .dvc file from another (external) git+DVC repository."
   ]
  },
  {
   "cell_type": "markdown",
   "metadata": {},
   "source": [
    "#### New Features in real life"
   ]
  },
  {
   "cell_type": "markdown",
   "metadata": {},
   "source": [
    "#### Metrics and evaluation\n",
    "Metrics can be used to track scores and evaluations over all branches\n",
    "\n",
    "```bash\n",
    "$ dvc metrics show --all-branches\n",
    "experiment1:\n",
    "    metrics.json: {\"loss\": 0.0012, \"accuracy\": 0.9765}\n",
    "experiment2:\n",
    "    metrics.json: {\"loss\": 0.0010, \"accuracy\": 0.9865}\n",
    "working tree:\n",
    "    metrics.json: {\"loss\": 0.0010, \"accuracy\": 0.9865}\n",
    "```\n"
   ]
  },
  {
   "cell_type": "markdown",
   "metadata": {},
   "source": [
    "#### Releasing and Deployment with git tags\n",
    "Git tags can be used to keep track over releases:\n",
    "\n",
    "```bash\n",
    "$ git checkout master\n",
    "$ git merge experiment2\n",
    "$ git tag -a release/0.1 -m \"0.1 release\"\n",
    "```\n",
    "\n",
    "And use DVC get to download the release (e.g. using a deploy job)\n",
    "```bash\n",
    "$ GIT_REPO=...\n",
    "$ dvc get --rev release/0.1 $GIT_REPO model.h5\n",
    "```\n",
    "\n",
    "Even metrics can be used to get an overview over the releases and their performance:\n",
    "\n",
    "```bash\n",
    "$ dvc metrics show -T\n",
    "release/0.1:\n",
    "    metrics.json: {\"loss\": 0.0112, \"accuracy\": 0.9865}\n",
    "working tree:\n",
    "    metrics.json: {\"loss\": 0.0112, \"accuracy\": 0.9865}\n",
    "```"
   ]
  },
  {
   "cell_type": "markdown",
   "metadata": {},
   "source": [
    "#### Debug only - pls ignore :-)"
   ]
  },
  {
   "cell_type": "code",
   "execution_count": null,
   "metadata": {},
   "outputs": [],
   "source": [
    "%%sh\n",
    "rm -rf .dvc\n",
    "rm -rf *.dvc\n",
    "rm Dvcfile\n",
    "rm -rf /tmp/dvc_introduction"
   ]
  }
 ],
 "metadata": {
  "kernelspec": {
   "display_name": "Python 3",
   "language": "python",
   "name": "python3"
  },
  "language_info": {
   "codemirror_mode": {
    "name": "ipython",
    "version": 3
   },
   "file_extension": ".py",
   "mimetype": "text/x-python",
   "name": "python",
   "nbconvert_exporter": "python",
   "pygments_lexer": "ipython3",
   "version": "3.7.9"
  }
 },
 "nbformat": 4,
 "nbformat_minor": 4
}
